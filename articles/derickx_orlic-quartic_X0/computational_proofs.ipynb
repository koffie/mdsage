{
 "cells": [
  {
   "cell_type": "code",
   "execution_count": 1,
   "id": "13595125",
   "metadata": {},
   "outputs": [],
   "source": [
    "from mdsage import *\n",
    "from sage.all import *"
   ]
  },
  {
   "cell_type": "markdown",
   "id": "a865a302",
   "metadata": {},
   "source": [
    "The computation below shows the following claim: \n",
    "\n",
    "**Proposition 3.9:** Suppose $N < 778$ and let $E$ be a strong Weil curve over $\\mathbb Q$ of positive rank and conductor $M\\mid N$, then $\\xi_{E,N}^\\vee: E^n \\to J_0(N)$ has a trivial kernel.\n",
    "\n",
    "Note that in the article \"Modular curves $X_0(N)$ with infinitely many quartic points\" the above proposition was stated for $N<408$. The same computation can easily be extended to $N < 778$. For $N=778$ we would need to modify the computation slightly since we need to worry about the rank 2 elliptic curve of conductor 389."
   ]
  },
  {
   "cell_type": "code",
   "execution_count": 2,
   "id": "0bc37489",
   "metadata": {
    "scrolled": true
   },
   "outputs": [
    {
     "name": "stdout",
     "output_type": "stream",
     "text": [
      "done\n"
     ]
    }
   ],
   "source": [
    "for E in modular_symbol_elliptic_curves_range(388, sign=1):\n",
    "    N = E.level()\n",
    "    for d in range(2,ceil(778/N)):\n",
    "        xi = product_isogeny_map(E,N*d)\n",
    "        assert xi.kernel()[0].invariants()==[]\n",
    "print(\"done\")"
   ]
  },
  {
   "cell_type": "markdown",
   "id": "4bbc5add",
   "metadata": {},
   "source": [
    "Here we generate the quadratic forms listed in **Table 1** of the article. And make sure that the value 4 is not attained by the degree quadratic form."
   ]
  },
  {
   "cell_type": "code",
   "execution_count": 3,
   "id": "fecb2acd",
   "metadata": {},
   "outputs": [],
   "source": [
    "levels = [\n",
    "    106, 114, 116, 122, 129, 130, 148, \n",
    "    158, 164, 166, 171, 172, 176, 178, \n",
    "    182, 183, 184, 185, 195, 215, 237,\n",
    "    242, 249, 259, 264, 265, 267, 297\n",
    "]"
   ]
  },
  {
   "cell_type": "code",
   "execution_count": 4,
   "id": "56a23d5d",
   "metadata": {},
   "outputs": [
    {
     "name": "stdout",
     "output_type": "stream",
     "text": [
      "106 6*x0^2 - 4*x0*x1 + 6*x1^2\n",
      "114 12*x0^2 - 16*x0*x1 + 12*x1^2\n",
      "116 8*x0^2 - 8*x0*x1 + 8*x1^2\n",
      "122 6*x0^2 - 4*x0*x1 + 6*x1^2\n",
      "129 8*x0^2 - 8*x0*x1 + 8*x1^2\n",
      "130 6*x0^2 - 4*x0*x1 + 6*x1^2\n",
      "148 12*x0^2 - 16*x0*x1 + 12*x1^2 + 4*x0*x2 - 16*x1*x2 + 12*x2^2\n",
      "158 6*x0^2 - 4*x0*x1 + 6*x1^2\n",
      "164 8*x0^2 - 8*x0*x1 + 8*x1^2\n",
      "166 6*x0^2 - 4*x0*x1 + 6*x1^2\n",
      "171 12*x0^2 - 8*x0*x1 + 12*x1^2\n",
      "172 12*x0^2 - 16*x0*x1 + 12*x1^2 + 4*x0*x2 - 16*x1*x2 + 12*x2^2\n",
      "176 16*x0^2 + 16*x1^2\n",
      "178 6*x0^2 - 4*x0*x1 + 6*x1^2\n",
      "182 12*x0^2 - 16*x0*x1 + 12*x1^2\n",
      "182 12*x0^2 + 12*x1^2\n",
      "183 8*x0^2 - 8*x0*x1 + 8*x1^2\n",
      "184 12*x0^2 + 12*x1^2\n",
      "185 12*x0^2 - 8*x0*x1 + 12*x1^2\n",
      "195 8*x0^2 - 8*x0*x1 + 8*x1^2\n",
      "215 12*x0^2 - 16*x0*x1 + 12*x1^2\n",
      "237 8*x0^2 - 4*x0*x1 + 8*x1^2\n",
      "242 12*x0^2 + 12*x1^2\n",
      "249 8*x0^2 - 4*x0*x1 + 8*x1^2\n",
      "259 16*x0^2 - 4*x0*x1 + 16*x1^2\n",
      "264 32*x0^2 - 48*x0*x1 + 32*x1^2\n",
      "265 12*x0^2 + 12*x1^2\n",
      "267 8*x0^2 - 4*x0*x1 + 8*x1^2\n",
      "297 12*x0^2 + 12*x1^2\n"
     ]
    }
   ],
   "source": [
    "for N in levels:\n",
    "    for E in modular_symbol_elliptic_curves_divisors(N, sign=1):\n",
    "        print(N, degree_quadratic_form(E,N))\n",
    "        pairing = degree_pairing(E,N)\n",
    "        # We ask pari to find all vectors of length <= 4 with respect to \n",
    "        # the degree pairing and verify that only vectors of length < 4\n",
    "        # were found.\n",
    "        max_degree_found,_,_ = pari.qfminim(pairing,4)\n",
    "        assert max_degree_found < 4"
   ]
  },
  {
   "cell_type": "code",
   "execution_count": null,
   "id": "abd61586",
   "metadata": {},
   "outputs": [],
   "source": []
  }
 ],
 "metadata": {
  "kernelspec": {
   "display_name": "SageMath 10.5",
   "language": "sage",
   "name": "sagemath-10.5"
  },
  "language_info": {
   "codemirror_mode": {
    "name": "ipython",
    "version": 3
   },
   "file_extension": ".py",
   "mimetype": "text/x-python",
   "name": "python",
   "nbconvert_exporter": "python",
   "pygments_lexer": "ipython3",
   "version": "3.12.5"
  }
 },
 "nbformat": 4,
 "nbformat_minor": 5
}
