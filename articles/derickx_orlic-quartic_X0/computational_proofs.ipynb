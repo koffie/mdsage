{
 "cells": [
  {
   "cell_type": "code",
   "execution_count": 1,
   "id": "13595125",
   "metadata": {},
   "outputs": [],
   "source": [
    "from mdsage import *\n",
    "from sage.all import *"
   ]
  },
  {
   "cell_type": "markdown",
   "id": "a865a302",
   "metadata": {},
   "source": [
    "The computation below shows the following claim: \n",
    "\n",
    "Suppose $N < 408$ and let $E$ be a strong Weil curve over $\\mathbb Q$ of positive rank and conductor $M\\mid N$, then $\\xi_{E,N}^\\vee: E^n \\to J_0(N)$ has a trivial kernel."
   ]
  },
  {
   "cell_type": "code",
   "execution_count": 2,
   "id": "0bc37489",
   "metadata": {
    "scrolled": true
   },
   "outputs": [
    {
     "name": "stdout",
     "output_type": "stream",
     "text": [
      "Abelian subvariety of dimension 1 of J0(37)\n",
      "Abelian subvariety of dimension 1 of J0(43)\n",
      "Abelian subvariety of dimension 1 of J0(53)\n",
      "Abelian subvariety of dimension 1 of J0(57)\n",
      "Abelian subvariety of dimension 1 of J0(58)\n",
      "Abelian subvariety of dimension 1 of J0(61)\n",
      "Abelian subvariety of dimension 1 of J0(65)\n",
      "Abelian subvariety of dimension 1 of J0(77)\n",
      "Abelian subvariety of dimension 1 of J0(79)\n",
      "Abelian subvariety of dimension 1 of J0(82)\n",
      "Abelian subvariety of dimension 1 of J0(83)\n",
      "Abelian subvariety of dimension 1 of J0(88)\n",
      "Abelian subvariety of dimension 1 of J0(89)\n",
      "Abelian subvariety of dimension 1 of J0(91)\n",
      "Abelian subvariety of dimension 1 of J0(91)\n",
      "Abelian subvariety of dimension 1 of J0(92)\n",
      "Abelian subvariety of dimension 1 of J0(99)\n",
      "Abelian subvariety of dimension 1 of J0(101)\n",
      "Abelian subvariety of dimension 1 of J0(102)\n",
      "Abelian subvariety of dimension 1 of J0(106)\n",
      "Abelian subvariety of dimension 1 of J0(112)\n",
      "Abelian subvariety of dimension 1 of J0(117)\n",
      "Abelian subvariety of dimension 1 of J0(118)\n",
      "Abelian subvariety of dimension 1 of J0(121)\n",
      "Abelian subvariety of dimension 1 of J0(122)\n",
      "Abelian subvariety of dimension 1 of J0(123)\n",
      "Abelian subvariety of dimension 1 of J0(123)\n",
      "Abelian subvariety of dimension 1 of J0(124)\n",
      "Abelian subvariety of dimension 1 of J0(128)\n",
      "Abelian subvariety of dimension 1 of J0(129)\n",
      "Abelian subvariety of dimension 1 of J0(130)\n",
      "Abelian subvariety of dimension 1 of J0(131)\n",
      "Abelian subvariety of dimension 1 of J0(135)\n",
      "Abelian subvariety of dimension 1 of J0(136)\n",
      "Abelian subvariety of dimension 1 of J0(138)\n",
      "Abelian subvariety of dimension 1 of J0(141)\n",
      "Abelian subvariety of dimension 1 of J0(141)\n",
      "Abelian subvariety of dimension 1 of J0(142)\n",
      "Abelian subvariety of dimension 1 of J0(142)\n",
      "Abelian subvariety of dimension 1 of J0(143)\n",
      "Abelian subvariety of dimension 1 of J0(145)\n",
      "Abelian subvariety of dimension 1 of J0(148)\n",
      "Abelian subvariety of dimension 1 of J0(152)\n",
      "Abelian subvariety of dimension 1 of J0(153)\n",
      "Abelian subvariety of dimension 1 of J0(153)\n",
      "Abelian subvariety of dimension 1 of J0(154)\n",
      "Abelian subvariety of dimension 1 of J0(155)\n",
      "Abelian subvariety of dimension 1 of J0(155)\n",
      "Abelian subvariety of dimension 1 of J0(156)\n",
      "Abelian subvariety of dimension 1 of J0(158)\n",
      "Abelian subvariety of dimension 1 of J0(158)\n",
      "Abelian subvariety of dimension 1 of J0(160)\n",
      "Abelian subvariety of dimension 1 of J0(162)\n",
      "Abelian subvariety of dimension 1 of J0(163)\n",
      "Abelian subvariety of dimension 1 of J0(166)\n",
      "Abelian subvariety of dimension 1 of J0(170)\n",
      "Abelian subvariety of dimension 1 of J0(171)\n",
      "Abelian subvariety of dimension 1 of J0(172)\n",
      "Abelian subvariety of dimension 1 of J0(175)\n",
      "Abelian subvariety of dimension 1 of J0(175)\n",
      "Abelian subvariety of dimension 1 of J0(176)\n",
      "Abelian subvariety of dimension 1 of J0(184)\n",
      "Abelian subvariety of dimension 1 of J0(184)\n",
      "Abelian subvariety of dimension 1 of J0(185)\n",
      "Abelian subvariety of dimension 1 of J0(185)\n",
      "Abelian subvariety of dimension 1 of J0(185)\n",
      "Abelian subvariety of dimension 1 of J0(189)\n",
      "Abelian subvariety of dimension 1 of J0(189)\n",
      "Abelian subvariety of dimension 1 of J0(190)\n",
      "Abelian subvariety of dimension 1 of J0(190)\n",
      "Abelian subvariety of dimension 1 of J0(192)\n",
      "Abelian subvariety of dimension 1 of J0(196)\n",
      "Abelian subvariety of dimension 1 of J0(197)\n",
      "Abelian subvariety of dimension 1 of J0(198)\n",
      "Abelian subvariety of dimension 1 of J0(200)\n",
      "Abelian subvariety of dimension 1 of J0(201)\n",
      "Abelian subvariety of dimension 1 of J0(201)\n",
      "Abelian subvariety of dimension 1 of J0(201)\n",
      "Abelian subvariety of dimension 1 of J0(203)\n",
      "done\n"
     ]
    }
   ],
   "source": [
    "for E in modular_symbol_elliptic_curves_range(204, sign=1):\n",
    "    N = E.level()\n",
    "    print(E)\n",
    "    for d in srange(2,408/N):\n",
    "        d = ZZ(d)\n",
    "        xi = product_isogeny_map(E,N*d)\n",
    "        assert xi.kernel()[0].invariants()==[]\n",
    "print(\"done\")"
   ]
  },
  {
   "cell_type": "code",
   "execution_count": null,
   "id": "fecb2acd",
   "metadata": {},
   "outputs": [],
   "source": []
  }
 ],
 "metadata": {
  "kernelspec": {
   "display_name": "SageMath 9.7",
   "language": "sage",
   "name": "sagemath-9.7"
  },
  "language_info": {
   "codemirror_mode": {
    "name": "ipython",
    "version": 3
   },
   "file_extension": ".py",
   "mimetype": "text/x-python",
   "name": "python",
   "nbconvert_exporter": "python",
   "pygments_lexer": "ipython3",
   "version": "3.10.5"
  }
 },
 "nbformat": 4,
 "nbformat_minor": 5
}
