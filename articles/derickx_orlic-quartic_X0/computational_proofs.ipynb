{
 "cells": [
  {
   "cell_type": "code",
   "execution_count": 1,
   "id": "13595125",
   "metadata": {},
   "outputs": [],
   "source": [
    "from mdsage import *\n",
    "from sage.all import *"
   ]
  },
  {
   "cell_type": "markdown",
   "id": "a865a302",
   "metadata": {},
   "source": [
    "The computation below shows the following claim: \n",
    "\n",
    "Suppose $N < 408$ and let $E$ be a strong Weil curve over $\\mathbb Q$ of positive rank and conductor $M\\mid N$, then $\\xi_{E,N}^\\vee: E^n \\to J_0(N)$ has a trivial kernel."
   ]
  },
  {
   "cell_type": "code",
   "execution_count": 2,
   "id": "0bc37489",
   "metadata": {
    "scrolled": true
   },
   "outputs": [
    {
     "name": "stdout",
     "output_type": "stream",
     "text": [
      "done\n"
     ]
    }
   ],
   "source": [
    "for E in modular_symbol_elliptic_curves_range(204, sign=1):\n",
    "    N = E.level()\n",
    "    for d in range(2,ceil(408/N)):\n",
    "        xi = product_isogeny_map(E,N*d)\n",
    "        assert xi.kernel()[0].invariants()==[]\n",
    "print(\"done\")"
   ]
  },
  {
   "cell_type": "code",
   "execution_count": null,
   "id": "fecb2acd",
   "metadata": {},
   "outputs": [],
   "source": []
  }
 ],
 "metadata": {
  "kernelspec": {
   "display_name": "SageMath 9.7",
   "language": "sage",
   "name": "sagemath-9.7"
  },
  "language_info": {
   "codemirror_mode": {
    "name": "ipython",
    "version": 3
   },
   "file_extension": ".py",
   "mimetype": "text/x-python",
   "name": "python",
   "nbconvert_exporter": "python",
   "pygments_lexer": "ipython3",
   "version": "3.10.5"
  }
 },
 "nbformat": 4,
 "nbformat_minor": 5
}
