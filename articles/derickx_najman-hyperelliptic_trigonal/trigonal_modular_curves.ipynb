{
 "cells": [
  {
   "cell_type": "markdown",
   "source": [
    "# Trigonal $X_0(N)$\n",
    "We only need to considder the $N$ for which the ramification degree of $X_0(N) \\to X_0(N)^+$ is 6 or smaller."
   ],
   "metadata": {
    "collapsed": false
   }
  },
  {
   "cell_type": "code",
   "execution_count": 1,
   "outputs": [],
   "source": [
    "from mdsage import *"
   ],
   "metadata": {
    "collapsed": false,
    "ExecuteTime": {
     "end_time": "2023-06-02T08:30:03.979278Z",
     "start_time": "2023-06-02T08:30:03.770050Z"
    }
   }
  },
  {
   "cell_type": "code",
   "execution_count": 2,
   "outputs": [],
   "source": [
    "subhyperelliptic = [1, 2, 3, 4, 5, 6, 7, 8, 9, 10, 11, 12, 13, 14, 15, 16, 17, 18, 19, 20, 21, 22, 23, 24, 25, 26, 27, 28, 29, 30, 31, 32, 33, 35, 36, 37, 39, 40, 41, 46, 47, 48, 49, 50, 59, 71]"
   ],
   "metadata": {
    "collapsed": false,
    "ExecuteTime": {
     "end_time": "2023-06-02T08:30:03.985481Z",
     "start_time": "2023-06-02T08:30:03.793705Z"
    }
   }
  },
  {
   "cell_type": "code",
   "execution_count": 3,
   "outputs": [
    {
     "name": "stdout",
     "output_type": "stream",
     "text": [
      "99\n",
      "[1, 2, 3, 4, 5, 6, 7, 8, 9, 10, 11, 12, 13, 14, 15, 16, 17, 18, 19, 20, 21, 22, 23, 24, 25, 26, 27, 28, 29, 30, 31, 32, 33, 34, 36, 37, 38, 40, 42, 43, 44, 45, 46, 48, 49, 50, 52, 53, 54, 57, 58, 60, 61, 64, 67, 70, 72, 73, 76, 78, 81, 82, 85, 88, 92, 93, 97, 100, 102, 106, 108, 109, 112, 118, 121, 124, 130, 133, 142, 148, 157, 162, 163, 169, 172, 177, 190, 193, 202, 214, 232, 253, 262, 268, 277, 298, 358, 397, 652]\n"
     ]
    }
   ],
   "source": [
    "todo = sorted(sum(small_ramification(6).values(),[]))\n",
    "print(len(todo))\n",
    "print(todo)"
   ],
   "metadata": {
    "collapsed": false,
    "ExecuteTime": {
     "end_time": "2023-06-02T08:30:03.985887Z",
     "start_time": "2023-06-02T08:30:03.804556Z"
    }
   }
  },
  {
   "cell_type": "code",
   "execution_count": 4,
   "outputs": [
    {
     "name": "stdout",
     "output_type": "stream",
     "text": [
      "22\n",
      "[52, 57, 58, 67, 72, 73, 76, 85, 88, 93, 97, 106, 108, 109, 121, 157, 162, 163, 169, 193, 277, 397]\n"
     ]
    }
   ],
   "source": [
    "todo2 = []\n",
    "\n",
    "for N in todo:\n",
    "    g = Gamma0(N).genus()\n",
    "    if g <= 4:\n",
    "        # curves of genus <= 4 are subtrigonal over algebraically closed fields, so we do not\n",
    "        # need to consider these\n",
    "        continue\n",
    "\n",
    "    if N%2 == 0 and N//2 not in todo and N//2 not in subhyperelliptic:\n",
    "        # this means that X_0(N) maps to X_0(N/2) with X_0(N/2) not being subtrigonal\n",
    "        # in particular X_0(N) cannot be subtrigonal either.\n",
    "        continue\n",
    "\n",
    "    for d in atkin_lehner_divisors(N):\n",
    "        ram = atkin_lehner_ramification_degree(N, d)\n",
    "\n",
    "        if ram > 6:\n",
    "            # if the ramification degree is > 6 then either the curve is not trigonal in any characteristic\n",
    "            break\n",
    "\n",
    "    else:\n",
    "        todo2.append(N)\n",
    "\n",
    "print(len(todo2))\n",
    "print(todo2)"
   ],
   "metadata": {
    "collapsed": false,
    "ExecuteTime": {
     "end_time": "2023-06-02T08:30:03.986198Z",
     "start_time": "2023-06-02T08:30:03.847014Z"
    }
   }
  },
  {
   "cell_type": "markdown",
   "source": [],
   "metadata": {
    "collapsed": false
   }
  },
  {
   "cell_type": "code",
   "execution_count": 5,
   "outputs": [
    {
     "name": "stdout",
     "output_type": "stream",
     "text": [
      "======= 52 ========\n",
      "======= 57 ========\n",
      "======= 58 ========\n",
      "======= 67 ========\n",
      "======= 72 ========\n",
      "======= 73 ========\n",
      "Congruence Subgroup Gamma0(73) [2]\n",
      "======= 76 ========\n",
      "======= 85 ========\n",
      "======= 88 ========\n",
      "======= 93 ========\n",
      "======= 97 ========\n",
      "======= 106 ========\n",
      "======= 108 ========\n",
      "======= 109 ========\n",
      "======= 121 ========\n",
      "======= 157 ========\n",
      "======= 162 ========\n",
      "======= 163 ========\n",
      "======= 169 ========\n",
      "======= 193 ========\n",
      "======= 277 ========\n",
      "======= 397 ========\n"
     ]
    }
   ],
   "source": [
    "for N in todo2:\n",
    "    print(f\"======= {N} ========\")\n",
    "    G = Gamma0(N)\n",
    "    g = G.genus()\n",
    "    if g <= 4:\n",
    "        continue\n",
    "\n",
    "    trig_primes = trigonal_or_plane_quintic_primes(G)\n",
    "    if trig_primes:\n",
    "        print(G,trig_primes)\n"
   ],
   "metadata": {
    "collapsed": false,
    "ExecuteTime": {
     "end_time": "2023-06-02T08:30:18.615513Z",
     "start_time": "2023-06-02T08:30:03.900852Z"
    }
   }
  },
  {
   "cell_type": "code",
   "execution_count": 6,
   "outputs": [],
   "source": [
    "# See thm 3.3 of Trigonal modular curves by Yuji Hasegawa and Mahoro Shimura (http://matwbn.icm.edu.pl/ksiazki/aa/aa88/aa8823.pdf)\n",
    "# for the list of trigonal curves over C\n",
    "trigonal = [34, 38, 43, 44, 45, 53, 54, 61, 64, 81]\n",
    "sub_hyperelliptic = [1, 2, 3, 4, 5, 6, 7, 8, 9, 10, 11, 12, 13, 14, 15, 16, 17, 18, 19, 20, 21, 22, 23, 24, 25, 26, 27, 28, 29, 30, 31, 32, 33, 35, 36, 37, 39, 40, 41, 46, 47, 48, 49, 50, 59, 71]\n",
    "sub_trigonal = sorted(sub_hyperelliptic + trigonal)"
   ],
   "metadata": {
    "collapsed": false,
    "ExecuteTime": {
     "end_time": "2023-06-02T08:30:18.623525Z",
     "start_time": "2023-06-02T08:30:18.614659Z"
    }
   }
  },
  {
   "cell_type": "code",
   "execution_count": 7,
   "outputs": [
    {
     "name": "stdout",
     "output_type": "stream",
     "text": [
      "======= 1 =======\n",
      "======= 2 =======\n",
      "======= 3 =======\n",
      "======= 4 =======\n",
      "======= 5 =======\n",
      "======= 6 =======\n",
      "======= 7 =======\n",
      "======= 8 =======\n",
      "======= 9 =======\n",
      "======= 10 =======\n",
      "======= 11 =======\n",
      "======= 12 =======\n",
      "======= 13 =======\n",
      "======= 14 =======\n",
      "======= 15 =======\n",
      "======= 16 =======\n",
      "======= 17 =======\n",
      "======= 18 =======\n",
      "======= 19 =======\n",
      "======= 20 =======\n",
      "======= 21 =======\n",
      "======= 22 =======\n",
      "======= 23 =======\n",
      "======= 24 =======\n",
      "======= 25 =======\n",
      "======= 26 =======\n",
      "======= 27 =======\n",
      "======= 28 =======\n",
      "======= 29 =======\n",
      "======= 30 =======\n",
      "======= 31 =======\n",
      "======= 32 =======\n",
      "======= 33 =======\n",
      "======= 34 =======\n",
      "======= 35 =======\n",
      "======= 36 =======\n",
      "======= 37 =======\n",
      "======= 38 =======\n",
      "======= 39 =======\n",
      "======= 40 =======\n",
      "======= 41 =======\n",
      "======= 43 =======\n",
      "======= 44 =======\n",
      "======= 45 =======\n",
      "======= 46 =======\n",
      "======= 47 =======\n",
      "======= 48 =======\n",
      "======= 49 =======\n",
      "======= 50 =======\n",
      "======= 53 =======\n",
      "======= 54 =======\n",
      "======= 59 =======\n",
      "======= 61 =======\n",
      "======= 64 =======\n",
      "======= 71 =======\n",
      "======= 73 =======\n",
      "Found exceptional primes!!!!!!!!!!!!!!!!\n",
      "Gamma0(73) [2]\n",
      "======= 81 =======\n"
     ]
    }
   ],
   "source": [
    "# we include 73 since X_0(73) is trigonal in characteristic 2 so a priori curves intermediate between X_0(73) and X_1(73)\n",
    "# could also be trigonal in characteristic 2.\n",
    "for N in sorted(sub_trigonal + [73]):\n",
    "    print(f\"======= {N} =======\")\n",
    "    done = []\n",
    "    for G in intermediate_modular_groups(N):\n",
    "        g = G.genus()\n",
    "        if any(G.is_subgroup(H) for H in done):\n",
    "            continue\n",
    "        G0 = Gamma0(N)\n",
    "        ok_deltas = []\n",
    "        delta_size = G.projective_index()/G0.projective_index()\n",
    "        if g <= (2*delta_size-1)*2 or delta_size == 1:\n",
    "\n",
    "            trig_primes = trigonal_or_plane_quintic_primes(G)\n",
    "            if trig_primes:\n",
    "                if trig_primes != [0]:\n",
    "                    print(\"Found exceptional primes!!!!!!!!!!!!!!!!\")\n",
    "                    print(congruence_subgroup_repr(G), trig_primes)\n",
    "            else:\n",
    "                # trigonal_or_plane_quintic_primes requires the curve to not be subhyperelliptic\n",
    "                # in order for the result to be reliable and usefull. The only subhyperelliptic modular\n",
    "                # curves in characteristic 0 of the form X_\\Delta that are not of the form X_0(N)\n",
    "                # are X_1(13), X_1(16) and X_1(18) which are of genus 2. So as soon as genus > 2\n",
    "                # the result of trigonal_or_plane_quintic_primes is reliable.\n",
    "                if G.genus() > 2:\n",
    "                    done.append(G)\n",
    "\n"
   ],
   "metadata": {
    "collapsed": false,
    "ExecuteTime": {
     "end_time": "2023-06-02T08:53:19.765409Z",
     "start_time": "2023-06-02T08:30:18.630873Z"
    }
   }
  },
  {
   "cell_type": "markdown",
   "source": [
    "From the above it follows that (Gamma0(73),2) is the only exceptional trigonal pair."
   ],
   "metadata": {
    "collapsed": false
   }
  },
  {
   "cell_type": "markdown",
   "source": [
    "# Smooth plane quintics\n",
    "\n",
    "After having found all exceptional trigonal pairs, we will look at smooth plane quintics in arbitrary characteristic.\n",
    "We only need to considder curves of genus 6 for this."
   ],
   "metadata": {
    "collapsed": false
   }
  },
  {
   "cell_type": "code",
   "execution_count": 8,
   "metadata": {
    "collapsed": false,
    "ExecuteTime": {
     "end_time": "2023-06-02T08:53:19.900525Z",
     "start_time": "2023-06-02T08:53:19.765820Z"
    }
   },
   "outputs": [
    {
     "name": "stdout",
     "output_type": "stream",
     "text": [
      "58\n",
      "71\n",
      "79\n",
      "121\n",
      "max: 121\n"
     ]
    }
   ],
   "source": [
    "max_N = 0\n",
    "for N in range(1,1000):\n",
    "    if Gamma0(N).genus()==6:\n",
    "        print(N)\n",
    "    if Gamma0(N).genus()<=6:\n",
    "        max_N = max(N, max_N)\n",
    "print(f\"max: {max_N}\")"
   ]
  },
  {
   "cell_type": "code",
   "execution_count": 9,
   "outputs": [
    {
     "name": "stdout",
     "output_type": "stream",
     "text": [
      "GammaH(22, [21]) []\n",
      "GammaH(31, [23]) []\n",
      "GammaH(31, [6]) []\n",
      "Gamma0(58) []\n",
      "Gamma0(71) []\n",
      "Gamma0(79) []\n",
      "Gamma0(121) []\n"
     ]
    }
   ],
   "source": [
    "for N in range(1, 122):\n",
    "    for G in intermediate_modular_groups(N):\n",
    "        g = G.genus()\n",
    "        if g != 6:\n",
    "            continue\n",
    "        print(congruence_subgroup_repr(G), trigonal_or_plane_quintic_primes(G))"
   ],
   "metadata": {
    "collapsed": false,
    "ExecuteTime": {
     "end_time": "2023-06-02T08:53:30.904602Z",
     "start_time": "2023-06-02T08:53:19.906652Z"
    }
   }
  },
  {
   "cell_type": "markdown",
   "source": [
    "The above shows that there are no modular curves that are a smooth plane quintic in any characteristic."
   ],
   "metadata": {
    "collapsed": false
   }
  },
  {
   "cell_type": "markdown",
   "source": [
    "# Trigonal curves over non algebraically closed fields\n",
    "\n",
    "If a curve is of genus 4 it might geometrically trigonal but not be trigonal over it's basefield. Indeed, geometrically trigonal curves of genus 4 generically admit two different trigonal maps, and these maps might be galois conjugates of eachother. Below we compute for all genus 4 modular curves the discriminant of the quadratic order over which the trigonal maps are defined."
   ],
   "metadata": {
    "collapsed": false
   }
  },
  {
   "cell_type": "code",
   "execution_count": 10,
   "outputs": [
    {
     "name": "stdout",
     "output_type": "stream",
     "text": [
      "GammaH(25, [7]) 5\n",
      "GammaH(26, [17]) 1\n",
      "GammaH(26, [5]) 1\n",
      "GammaH(28, [3]) 0\n",
      "GammaH(28, [13, 15]) 4\n",
      "GammaH(29, [4]) 1\n",
      "GammaH(37, [4]) 0\n",
      "GammaH(37, [8]) 1\n",
      "Gamma0(38) -3\n",
      "Gamma0(44) -8\n",
      "Gamma0(47) is hyperelliptic\n",
      "GammaH(50, [19]) 1\n",
      "Gamma0(53) -15\n",
      "Gamma0(54) 1\n",
      "Gamma0(61) -4\n",
      "Gamma0(81) 0\n"
     ]
    }
   ],
   "source": [
    "def QuadraticForm_from_Quadric(f):\n",
    "    R = f.parent()\n",
    "    n = R.ngens()\n",
    "    ZZn = ZZ**n\n",
    "    coefficients = [f[ZZn.gen(i)+ZZn.gen(j)] for i in range(n) for j in range(i,n)]\n",
    "    return QuadraticForm(R.base_ring(),n,coefficients)\n",
    "\n",
    "for N in range(1,122):\n",
    "    for G in intermediate_modular_groups(N):\n",
    "        g = G.genus()\n",
    "        if g!=4:\n",
    "            continue\n",
    "\n",
    "\n",
    "        quadrics = vanishing_quadratic_forms(G)\n",
    "\n",
    "        if len(quadrics) != 1:\n",
    "            print(f\"{congruence_subgroup_repr(G)} is hyperelliptic\")\n",
    "            continue\n",
    "        Q = QuadraticForm_from_Quadric(quadrics[0])\n",
    "        print(congruence_subgroup_repr(G), Q.disc())\n"
   ],
   "metadata": {
    "collapsed": false,
    "ExecuteTime": {
     "end_time": "2023-06-02T08:56:02.768989Z",
     "start_time": "2023-06-02T08:55:51.950679Z"
    }
   }
  },
  {
   "cell_type": "code",
   "execution_count": null,
   "outputs": [],
   "source": [],
   "metadata": {
    "collapsed": false
   }
  }
 ],
 "metadata": {
  "kernelspec": {
   "name": "sagemath-9.4",
   "language": "sage",
   "display_name": "SageMath 9.4"
  },
  "language_info": {
   "codemirror_mode": {
    "name": "ipython",
    "version": 3
   },
   "file_extension": ".py",
   "mimetype": "text/x-python",
   "name": "python",
   "nbconvert_exporter": "python",
   "pygments_lexer": "ipython3",
   "version": "3.10.6"
  }
 },
 "nbformat": 4,
 "nbformat_minor": 4
}
