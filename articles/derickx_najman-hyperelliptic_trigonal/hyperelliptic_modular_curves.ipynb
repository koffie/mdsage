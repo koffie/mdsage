{
 "cells": [
  {
   "cell_type": "markdown",
   "id": "0c4acfed",
   "metadata": {},
   "source": [
    "# Hyperelliptic $X_0(N)$\n",
    "We only need to considder the $N$ for which the ramification degree of $X_0(N) \\to X_0(N)^+$ is 4 or smaller."
   ]
  },
  {
   "cell_type": "code",
   "execution_count": 1,
   "id": "bcab9efd",
   "metadata": {
    "ExecuteTime": {
     "end_time": "2023-05-20T14:04:49.989517Z",
     "start_time": "2023-05-20T14:04:49.954734Z"
    }
   },
   "outputs": [],
   "source": [
    "from mdsage import *"
   ]
  },
  {
   "cell_type": "code",
   "execution_count": 2,
   "id": "9fd7d330",
   "metadata": {
    "ExecuteTime": {
     "end_time": "2023-05-20T14:04:50.009976Z",
     "start_time": "2023-05-20T14:04:49.989788Z"
    }
   },
   "outputs": [
    {
     "name": "stdout",
     "output_type": "stream",
     "text": [
      "67\n",
      "[1, 2, 3, 4, 5, 6, 7, 8, 9, 10, 11, 12, 13, 14, 15, 16, 17, 18, 19, 20, 21, 22, 24, 25, 27, 28, 30, 32, 33, 34, 36, 37, 40, 42, 43, 45, 46, 48, 49, 52, 57, 58, 60, 64, 67, 70, 72, 73, 78, 82, 85, 88, 93, 97, 100, 102, 112, 130, 133, 142, 148, 163, 177, 190, 193, 232, 253]\n"
     ]
    }
   ],
   "source": [
    "todo = sorted(sum(small_ramification(4).values(),[]))\n",
    "print(len(todo))\n",
    "print(todo)"
   ]
  },
  {
   "cell_type": "markdown",
   "source": [
    "We first determine the $X_0(N)$ that have a prime of sub hyperelliptic reduction."
   ],
   "metadata": {
    "collapsed": false
   }
  },
  {
   "cell_type": "code",
   "execution_count": 3,
   "id": "04facc76",
   "metadata": {
    "ExecuteTime": {
     "end_time": "2023-05-20T14:04:50.060828Z",
     "start_time": "2023-05-20T14:04:50.014924Z"
    }
   },
   "outputs": [
    {
     "name": "stdout",
     "output_type": "stream",
     "text": [
      "19\n",
      "[34, 40, 43, 45, 48, 52, 57, 64, 67, 72, 73, 85, 88, 93, 97, 148, 163, 193, 232]\n"
     ]
    }
   ],
   "source": [
    "todo2 = []\n",
    "\n",
    "for N in todo:\n",
    "    g = Gamma0(N).genus()\n",
    "    if g <= 2:\n",
    "        # curves of g <= are subhyperelliptic in characteristic 0, so we do not\n",
    "        # need to consider these\n",
    "        continue\n",
    "\n",
    "    for d in atkin_lehner_divisors(N):\n",
    "        ram = atkin_lehner_ramification_degree(N, d)\n",
    "\n",
    "        if ram > 4:\n",
    "            # if the ramification degree is > 4 then either the curve is hyperelliptic\n",
    "            # in characteristic 0, or it is not hyperelliptic in any characteristic\n",
    "            break\n",
    "\n",
    "    else:\n",
    "        todo2.append(N)\n",
    "\n",
    "print(len(todo2))\n",
    "print(todo2)"
   ]
  },
  {
   "cell_type": "code",
   "execution_count": 4,
   "id": "05674178",
   "metadata": {
    "ExecuteTime": {
     "end_time": "2023-05-20T14:04:54.275352Z",
     "start_time": "2023-05-20T14:04:50.066083Z"
    }
   },
   "outputs": [
    {
     "name": "stdout",
     "output_type": "stream",
     "text": [
      "40 [0]\n",
      "48 [0]\n"
     ]
    }
   ],
   "source": [
    "for N in todo2:\n",
    "    G = Gamma0(N)\n",
    "    sh_primes = subhyperelliptic_primes(G)\n",
    "    if sh_primes:\n",
    "        print(N, sh_primes)\n"
   ]
  },
  {
   "cell_type": "markdown",
   "source": [
    "The above shows that of the list in todo2 only $40$ and $48$ have primes of hyperelliptic reduction, however those are hyperelliptic in characteristic 0, so are not exceptional."
   ],
   "metadata": {
    "collapsed": false
   }
  },
  {
   "cell_type": "markdown",
   "source": [
    "# Sub hyperelliptic $X_\\Delta(N)$\n",
    "If $X_\\Delta(N)$ has a prime of sub hyperelliptic reduction then $X_0(N)$ has one as well. Additionally, all the $X_0(N)$ that have a prime of sub hyperelliptic reduction are sub hyperelliptic in characteristic 0, so we first compile a list of all sub hyperelliptic $X_0(N)$."
   ],
   "metadata": {
    "collapsed": false
   }
  },
  {
   "cell_type": "code",
   "execution_count": 5,
   "id": "0b42cfa0",
   "metadata": {
    "ExecuteTime": {
     "end_time": "2023-05-20T14:04:54.326071Z",
     "start_time": "2023-05-20T14:04:54.316323Z"
    }
   },
   "outputs": [],
   "source": [
    "subhyperelliptic = [40, 48]\n",
    "\n",
    "for N in range(1,72):\n",
    "    g = Gamma0(N).genus()\n",
    "    if g <= 2:\n",
    "        subhyperelliptic.append(N)\n",
    "        continue\n",
    "\n",
    "    for d in atkin_lehner_divisors(N):\n",
    "        ram = atkin_lehner_ramification_degree(N, d)\n",
    "\n",
    "        if (2*g+2-ram) == 0 or (d == 1 and g==0):\n",
    "            subhyperelliptic.append(N)\n",
    "            break\n",
    "\n",
    "subhyperelliptic = sorted(subhyperelliptic)\n"
   ]
  },
  {
   "cell_type": "code",
   "execution_count": 6,
   "id": "80377db2",
   "metadata": {
    "ExecuteTime": {
     "end_time": "2023-05-20T14:04:54.326571Z",
     "start_time": "2023-05-20T14:04:54.321673Z"
    }
   },
   "outputs": [
    {
     "name": "stdout",
     "output_type": "stream",
     "text": [
      "[1, 2, 3, 4, 5, 6, 7, 8, 9, 10, 11, 12, 13, 14, 15, 16, 17, 18, 19, 20, 21, 22, 23, 24, 25, 26, 27, 28, 29, 30, 31, 32, 33, 35, 36, 37, 39, 40, 41, 46, 47, 48, 49, 50, 59, 71]\n"
     ]
    }
   ],
   "source": [
    "print(subhyperelliptic)"
   ]
  },
  {
   "cell_type": "code",
   "execution_count": 7,
   "outputs": [
    {
     "name": "stdout",
     "output_type": "stream",
     "text": [
      "GammaH(37, [4]) is hyperelliptic in characteristic(s) 2\n",
      "done\n"
     ]
    }
   ],
   "source": [
    "for N in subhyperelliptic:\n",
    "    for G in intermediate_modular_groups(N):\n",
    "        g = G.genus()\n",
    "        if g <= 2:\n",
    "            # curves of g <= are subhyperelliptic in characteristic 0, so we do not\n",
    "            # need to consider these\n",
    "            continue\n",
    "        deg_to_X0 = G.projective_index()/Gamma0(N).projective_index()\n",
    "\n",
    "        if g > 2*deg_to_X0-1 and N not in [37, 40, 48]:\n",
    "            # in this case, if a hyperelliptic involution exists in postivie characteristic\n",
    "            # it has to have a modular interpretation in terms of diamond operators and\n",
    "            # Atkin-Lhner operators so it lifts to characteristic 0\n",
    "            continue\n",
    "\n",
    "        sh_primes = subhyperelliptic_primes(G)\n",
    "\n",
    "        if any(sh_primes):\n",
    "            print(f\"{congruence_subgroup_repr(G)} is hyperelliptic in characteristic(s) {''.join(str(p) for p in sh_primes)}\")\n",
    "print(\"done\")"
   ],
   "metadata": {
    "collapsed": false,
    "ExecuteTime": {
     "end_time": "2023-05-20T14:06:50.681460Z",
     "start_time": "2023-05-20T14:04:54.325367Z"
    }
   }
  },
  {
   "cell_type": "markdown",
   "source": [
    "The above shows that (GammaH(37, [4]), 2) is the only exceptional hyperelliptic pair."
   ],
   "metadata": {
    "collapsed": false
   }
  }
 ],
 "metadata": {
  "kernelspec": {
   "name": "sagemath-9.4",
   "language": "sage",
   "display_name": "SageMath 9.4"
  },
  "language_info": {
   "codemirror_mode": {
    "name": "ipython",
    "version": 3
   },
   "file_extension": ".py",
   "mimetype": "text/x-python",
   "name": "python",
   "nbconvert_exporter": "python",
   "pygments_lexer": "ipython3",
   "version": "3.10.5"
  }
 },
 "nbformat": 4,
 "nbformat_minor": 5
}
